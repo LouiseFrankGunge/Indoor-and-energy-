{
 "cells": [
  {
   "cell_type": "markdown",
   "id": "dc37f85c",
   "metadata": {},
   "source": []
  }
 ],
 "metadata": {
  "language_info": {
   "name": "python"
  }
 },
 "nbformat": 4,
 "nbformat_minor": 5
}
